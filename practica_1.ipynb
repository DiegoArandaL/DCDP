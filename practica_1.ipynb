{
  "cells": [
    {
      "cell_type": "markdown",
      "metadata": {
        "id": "view-in-github",
        "colab_type": "text"
      },
      "source": [
        "<a href=\"https://colab.research.google.com/github/DiegoArandaL/DCDP/blob/main/practica_1.ipynb\" target=\"_parent\"><img src=\"https://colab.research.google.com/assets/colab-badge.svg\" alt=\"Open In Colab\"/></a>"
      ]
    },
    {
      "cell_type": "markdown",
      "metadata": {
        "id": "4zMzLuXxBDdY"
      },
      "source": [
        "# Ejercicios bases de Python"
      ]
    },
    {
      "cell_type": "markdown",
      "source": [],
      "metadata": {
        "id": "C3C4Cd6YruAR"
      }
    },
    {
      "cell_type": "markdown",
      "metadata": {
        "id": "HAY8IBC4dM62"
      },
      "source": [
        "## Estructuras, asignación y funciones"
      ]
    },
    {
      "cell_type": "markdown",
      "metadata": {
        "id": "5OKzkyU6_1kB"
      },
      "source": [
        "### 1. Creando una agenda \n",
        "\n",
        "Utiliza los conceptos básicos de python para crear una agenda telefónica. Deberás completar las funciones `***crear_agenda***`, **agregar_contacto**, **eliminimar_contacto** y **buscar_contacto** que se encuentran en las siguientes celdas.\n",
        "\n",
        "* ```crear_agenda()```, esta función devuelve una nueva agenda vacía, elige el tipo de dato que creas adecuado para este proposito.\n",
        "* ```agregar_contacto(agenda, nombre, numero)```, esta función debe permitir agregar un nuevo contacto a la agenda, además si un contacto ya existe con el nombre recibido entonces debes almacenar su nuevo numero sin eliminar el anterior.\n",
        "* ```buscar_contacto(agenda, nombre)```, esta función debe de regresar el o los números registados de un contacto, si el contacto no existe entonces imprimer el mensaje \"Contacto no encontrado en la agenda\".\n",
        "* ```eliminar_contacto(agenda, nombre)```, esta función permite eliminar a un contacto de la agenda, si el contacto no existe entonces imprimer el mensaje \"Contacto no encontrado en la agenda\"."
      ]
    },
    {
      "cell_type": "code",
      "execution_count": null,
      "metadata": {
        "id": "EJAb9gnbzhA4"
      },
      "outputs": [],
      "source": [
        "def crear_agenda():\n",
        "    return {}"
      ]
    },
    {
      "cell_type": "code",
      "execution_count": null,
      "metadata": {
        "id": "QjsW0Y_M_x4j"
      },
      "outputs": [],
      "source": [
        "def agregar_contacto(agenda, nombre, numero):\n",
        "    if nombre not in agenda:\n",
        "        agenda[nombre] = numero\n",
        "        print(\"Se ha agregado el contacto\")\n",
        "    else:\n",
        "        print(\"Contacto existe. Se agrega nuevo número\")\n",
        "        num_list = []\n",
        "        value = agenda[nombre]\n",
        "        num_list.append(value)\n",
        "        num_list.append(numero)\n",
        "        agenda[nombre] = num_list\n",
        "    return agenda \n",
        " "
      ]
    },
    {
      "cell_type": "code",
      "execution_count": null,
      "metadata": {
        "id": "CkJpO_BtzhA5",
        "colab": {
          "base_uri": "https://localhost:8080/"
        },
        "outputId": "2646f268-9c45-4487-ce2a-1c356ff047ff"
      },
      "outputs": [
        {
          "output_type": "stream",
          "name": "stdout",
          "text": [
            "Se ha agregado el contacto\n"
          ]
        }
      ],
      "source": [
        "agenda = crear_agenda()\n",
        "agenda = agregar_contacto(agenda, \"Javier\", \"1234567890\")"
      ]
    },
    {
      "cell_type": "code",
      "execution_count": null,
      "metadata": {
        "id": "-xhGm-CXzhA7"
      },
      "outputs": [],
      "source": [
        "def crear_agenda():\n",
        "    return {}\n",
        "agenda = crear_agenda()\n",
        "\n",
        "def buscar_contacto(agenda, nombre ):\n",
        "    if nombre in agenda:\n",
        "        return agenda[nombre]\n",
        "    else:\n",
        "        print(\"Contacto no encontrado en la agenda\")\n"
      ]
    },
    {
      "cell_type": "code",
      "execution_count": null,
      "metadata": {
        "id": "FzG19KdxzhA7",
        "colab": {
          "base_uri": "https://localhost:8080/",
          "height": 70
        },
        "outputId": "3a695e13-65ac-4cfc-ea0b-60f503c54368"
      },
      "outputs": [
        {
          "output_type": "stream",
          "name": "stdout",
          "text": [
            "Contacto no encontrado en la agenda\n",
            "Se ha agregado el contacto\n"
          ]
        },
        {
          "output_type": "execute_result",
          "data": {
            "text/plain": [
              "'0987654321'"
            ],
            "application/vnd.google.colaboratory.intrinsic+json": {
              "type": "string"
            }
          },
          "metadata": {},
          "execution_count": 39
        }
      ],
      "source": [
        "agenda = crear_agenda()\n",
        "buscar_contacto(agenda, \"Javier\")\n",
        "agenda = agregar_contacto(agenda, \"Javier\", \"0987654321\")\n",
        "buscar_contacto(agenda, \"Javier\")"
      ]
    },
    {
      "cell_type": "code",
      "execution_count": null,
      "metadata": {
        "id": "9c7BfxoZzhA7"
      },
      "outputs": [],
      "source": [
        "def eliminar_contacto(agenda, nombre):\n",
        "   if nombre in agenda:\n",
        "     del agenda [nombre]\n",
        "     return \"contacto eliminado\"\n",
        "   else:\n",
        "     return \"contacto no encontrado en la agenda\""
      ]
    },
    {
      "cell_type": "code",
      "execution_count": null,
      "metadata": {
        "id": "RkNtzllbBirX"
      },
      "outputs": [],
      "source": [
        "agenda = eliminar_contacto(agenda,\"Javier\")"
      ]
    },
    {
      "cell_type": "markdown",
      "metadata": {
        "id": "3nzzkH6EA88D"
      },
      "source": [
        "# Ejercicios estadística"
      ]
    },
    {
      "cell_type": "markdown",
      "metadata": {
        "id": "e5g5CAaOc01h"
      },
      "source": [
        "### Función suma\n",
        "\n",
        "$$\n",
        "    suma(a) = \\sum_{i=1}^{n}a_i\n",
        "$$"
      ]
    },
    {
      "cell_type": "code",
      "execution_count": null,
      "metadata": {
        "id": "RxWbpZ42c07g"
      },
      "outputs": [],
      "source": [
        "def suma(numbers):\n",
        "    result = 0\n",
        "    for num in numbers:\n",
        "        result += num\n",
        "    return result"
      ]
    },
    {
      "cell_type": "code",
      "execution_count": null,
      "metadata": {
        "id": "mdiLISG-zhA-"
      },
      "outputs": [],
      "source": [
        "assert suma([1, 2, 3, 4, 5]) == 15"
      ]
    },
    {
      "cell_type": "markdown",
      "metadata": {
        "id": "Hc30xEPMc1QC"
      },
      "source": [
        "### Función promedio.\n",
        "\n",
        "$$\n",
        "\t\\bar{x} = \\dfrac{\\sum_{i=1}^{n}x_i}{n}\n",
        "$$"
      ]
    },
    {
      "cell_type": "code",
      "execution_count": null,
      "metadata": {
        "id": "2KyU6PyCc1VM"
      },
      "outputs": [],
      "source": [
        "def promedio(numeros):\n",
        "  suma = 0\n",
        "  for num in numeros:\n",
        "    suma += num\n",
        "  return suma/len(numeros)"
      ]
    },
    {
      "cell_type": "code",
      "execution_count": null,
      "metadata": {
        "id": "7GM2YpXVzhBA"
      },
      "outputs": [],
      "source": [
        "assert promedio([1, 2, 3, 4, 5]) == 3, \"Error en promedio\""
      ]
    },
    {
      "cell_type": "markdown",
      "metadata": {
        "id": "ImMoE5w4c1of"
      },
      "source": [
        "### Función varianza.\n",
        "$$\n",
        "\\sigma^2 = \\frac{1}{n} \\sum_{i=1}^{n}(x_i - \\bar{x})^2\n",
        "$$"
      ]
    },
    {
      "cell_type": "code",
      "execution_count": null,
      "metadata": {
        "id": "h0w2PHhLc1tG"
      },
      "outputs": [],
      "source": [
        "def var(numeros):\n",
        "    media = sum(numeros) / len(numeros)\n",
        "    suma_diferencias_cuadrado = 0\n",
        "    for num in numeros:\n",
        "        suma_diferencias_cuadrado += (num - media)**2\n",
        "    varianza = suma_diferencias_cuadrado / len(numeros)\n",
        "    return varianza"
      ]
    },
    {
      "cell_type": "code",
      "source": [
        "assert var([1, 2, 3, 4, 5]) == 2, \"Error en var\""
      ],
      "metadata": {
        "id": "ZsNC-3TbnHIk"
      },
      "execution_count": null,
      "outputs": []
    },
    {
      "cell_type": "markdown",
      "metadata": {
        "id": "fxxJeFhbA9Cq"
      },
      "source": [
        "# Ejercicios álgebra lineal"
      ]
    },
    {
      "cell_type": "markdown",
      "metadata": {
        "id": "6dXp-owNeqP9"
      },
      "source": [
        "## Vectores con listas"
      ]
    },
    {
      "cell_type": "markdown",
      "metadata": {
        "id": "9Du0_NsNc81H"
      },
      "source": [
        "### Ones"
      ]
    },
    {
      "cell_type": "markdown",
      "metadata": {
        "id": "DKp9wDLPEZdz"
      },
      "source": [
        "Completa la función ones1D que recibe como parámetros un entero $n$ y retorna una lista de tamaño $n$ con todos sus elementos con el valor $1$.\n",
        "\n",
        "Ejemplo:\n",
        "\n",
        "```\n",
        ">>> ones(5)\n",
        "[1, 1, 1, 1, 1]\n",
        "```\n",
        "\n"
      ]
    },
    {
      "cell_type": "code",
      "execution_count": null,
      "metadata": {
        "id": "l4j5ka46EulY",
        "colab": {
          "base_uri": "https://localhost:8080/"
        },
        "outputId": "076d096e-64a3-49a7-d91f-f6aadc072ba3"
      },
      "outputs": [
        {
          "output_type": "stream",
          "name": "stdout",
          "text": [
            "[1, 1, 1, 1, 1]\n"
          ]
        }
      ],
      "source": [
        "def ones_1d(n):\n",
        "    return [1 for i in range(n)]\n",
        "\n",
        "print(ones_1d(5)) "
      ]
    },
    {
      "cell_type": "markdown",
      "metadata": {
        "id": "TBYV7LYqdSJo"
      },
      "source": [
        "Ejecuta la siguiente celda para comprobar la función ones1D:"
      ]
    },
    {
      "cell_type": "code",
      "execution_count": null,
      "metadata": {
        "id": "QUlEotVIdRno",
        "colab": {
          "base_uri": "https://localhost:8080/"
        },
        "outputId": "ae76dd23-5916-4856-efb5-465af144e605"
      },
      "outputs": [
        {
          "output_type": "stream",
          "name": "stdout",
          "text": [
            "La funcion es correcta\n"
          ]
        }
      ],
      "source": [
        "assert len(ones_1d(10)) == 10 and  ones_1d(3).count(1) == 3 and sum(ones_1d(5)) == 5  , \"error en la funcion ones_1d\"\n",
        "print(\"La funcion es correcta\")"
      ]
    },
    {
      "cell_type": "markdown",
      "metadata": {
        "id": "b8SaUCdYzhBC"
      },
      "source": [
        "### Ones 2D"
      ]
    },
    {
      "cell_type": "markdown",
      "metadata": {
        "id": "lxOMWQXXEZp3"
      },
      "source": [
        "Completa la función ones_2d que recibe como parámetros un entero $n$ y un entero $m$ y retorna una lista con $n$ sub-listas cada una de tamaño $m$ con todos sus elementos con el valor 1. En otras palabras, una matriz $n \\times m$ con sus elementos iniciados con valor $1$.\n",
        "\n",
        "Ejemplo:\n",
        "\n",
        "\n",
        "\n",
        "```\n",
        ">>> ones_2d(2, 3)\n",
        "[[1, 1, 1], [1, 1, 1]]\n",
        "```\n",
        "\n"
      ]
    },
    {
      "cell_type": "code",
      "execution_count": null,
      "metadata": {
        "id": "-xfFmttxFRCw"
      },
      "outputs": [],
      "source": [
        "def ones_2d(m, n):\n",
        "    return [[1 for _ in range(n)] for _ in range(m)]"
      ]
    },
    {
      "cell_type": "markdown",
      "metadata": {
        "id": "yugjWXI9eI4P"
      },
      "source": [
        "Ejecuta la siguiente celda para comprobar la función ones2D:"
      ]
    },
    {
      "cell_type": "code",
      "execution_count": null,
      "metadata": {
        "id": "i7sZXWsveJBC",
        "colab": {
          "base_uri": "https://localhost:8080/"
        },
        "outputId": "87d2fda5-1fcc-4f24-a8ba-56381ad354fc"
      },
      "outputs": [
        {
          "output_type": "stream",
          "name": "stdout",
          "text": [
            "La funcion es correcta\n"
          ]
        }
      ],
      "source": [
        "assert len(ones_2d(2, 3)) == 2 and len(ones_2d(2, 3)[0]) == 3 and sum([x_i for sl in ones_2d(3, 2) for x_i in sl]) == 6 , \"error en la funcion ones_2d\"\n",
        "print(\"La funcion es correcta\")"
      ]
    },
    {
      "cell_type": "markdown",
      "metadata": {
        "id": "EwVykdiYzhBD"
      },
      "source": [
        "### Producto punto (inner)"
      ]
    },
    {
      "cell_type": "markdown",
      "metadata": {
        "id": "xy0p5QxEzhBE"
      },
      "source": [
        "Completa la función ones_2d que recibe como parametros dos listas a, b de la misma longitúd y retorna el producto punto de ambos.\n",
        "\n",
        "El producto punto está definido como:\n",
        "\n",
        "$$a = [a_1 a_2 ... a_n] \\: y \\: b = [b_1 b_2 ... b_n]$$\n",
        "\n",
        "$$\n",
        "a \\cdot b = a_1*b_1 + a_2*b_2 + \\dots + a_n*b_n\n",
        "$$"
      ]
    },
    {
      "cell_type": "code",
      "execution_count": null,
      "metadata": {
        "id": "OvNCcnXLBBc0"
      },
      "outputs": [],
      "source": [
        "def inner (a, b):\n",
        "  inner = 0\n",
        "  for i in range(len(a)):\n",
        "    inner += a[i] * b[i]\n",
        "  return inner\n",
        "\n"
      ]
    },
    {
      "cell_type": "code",
      "execution_count": null,
      "metadata": {
        "id": "-fDkDjKczhBE",
        "colab": {
          "base_uri": "https://localhost:8080/"
        },
        "outputId": "d3ddf210-488b-4c8f-c927-b0491b587c7e"
      },
      "outputs": [
        {
          "output_type": "stream",
          "name": "stdout",
          "text": [
            "Correcto\n"
          ]
        }
      ],
      "source": [
        "assert inner([1, 2, 3], [1, 2 ,3]) == 14, \"Error en inner\"\n",
        "print(\"Correcto\")"
      ]
    },
    {
      "cell_type": "markdown",
      "metadata": {
        "id": "6B7dwCC7eqnL"
      },
      "source": [
        "## Matrices con listas de listas"
      ]
    },
    {
      "cell_type": "markdown",
      "metadata": {
        "id": "l36RNkUqexzU"
      },
      "source": [
        "### Matriz identidad\n",
        "$$\n",
        "\tI_{ij} = \\begin{cases}\n",
        "\t\t1 & i=j\\\\\n",
        "\t\t0 & i \\neq j\\\\\n",
        "\t\\end{cases}\n",
        "$$"
      ]
    },
    {
      "cell_type": "code",
      "execution_count": null,
      "metadata": {
        "id": "afcnX6E_eqvP"
      },
      "outputs": [],
      "source": [
        "def eye(n):\n",
        "  I = [[0 for _ in range(n)] for _ in range(n)]\n",
        "  for i in range(n):\n",
        "    I[i][i] = 1\n",
        "  return I"
      ]
    },
    {
      "cell_type": "code",
      "execution_count": null,
      "metadata": {
        "id": "aGgCGhqrzhBF"
      },
      "outputs": [],
      "source": [
        "assert eye(2) == [[1, 0], [0, 1]], \"Error en eye\""
      ]
    },
    {
      "cell_type": "markdown",
      "metadata": {
        "id": "jLXu_k7CfCqF"
      },
      "source": [
        "### Matriz transpuesta\n",
        "\n",
        "$$C = A^T \\Leftrightarrow c_{ij} = a{ji}$$\n",
        "\n",
        "Por ejemplo, si:\n",
        "\t$$\n",
        "\tA = \\begin{bmatrix}\n",
        "\ta_{11} & a_{12}  \\\\\n",
        "\ta_{21} & a_{22}  \\\\\n",
        "\ta_{31} & a_{32}  \\\\\n",
        "\t\\end{bmatrix}\n",
        "\t$$\n",
        "\tentonces\n",
        "\t$$\n",
        "\tA^T = \\begin{bmatrix}\n",
        "\ta_{11} & a_{21} & a_{31} \\\\\n",
        "\ta_{12} & a_{22} & a_{32} \\\\\n",
        "\t\\end{bmatrix}\n",
        "\t$$"
      ]
    },
    {
      "cell_type": "code",
      "execution_count": null,
      "metadata": {
        "id": "zKWY09JhfEfa"
      },
      "outputs": [],
      "source": [
        "def traspose(A):\n",
        "  A_t = [[A[j][i] for j in range(len(A))] for i in range(len(A[0]))]\n",
        "  return A_t"
      ]
    },
    {
      "cell_type": "code",
      "execution_count": null,
      "metadata": {
        "id": "bl1lclWhzhBF"
      },
      "outputs": [],
      "source": [
        "assert traspose([[1, 2], [3, 4], [5, 6]]) == [[1, 3, 5], [2, 4, 6]], \"Error en traspose\""
      ]
    },
    {
      "cell_type": "markdown",
      "metadata": {
        "id": "YnYXfNmizhBF"
      },
      "source": [
        "### Valida multiplicación\n",
        "\n",
        "```True``` si\n",
        "$$A \\qquad es \\qquad mxn$$\n",
        "y\n",
        "$$B \\qquad es \\qquad nxp$$\n",
        "```False``` en otro caso"
      ]
    },
    {
      "cell_type": "code",
      "execution_count": null,
      "metadata": {
        "id": "QS3a6v3CzhBG"
      },
      "outputs": [],
      "source": [
        "def validate_mat_mul(A, B):\n",
        "    val = False\n",
        "    if len (A[0]) == len (B):\n",
        "      val = True\n",
        "    return val"
      ]
    },
    {
      "cell_type": "code",
      "execution_count": null,
      "metadata": {
        "id": "5bhyeBnMzhBG"
      },
      "outputs": [],
      "source": [
        "assert validate_mat_mul([[1, 2], [3, 4]], [[5, 6], [7, 8]]) and \\\n",
        "validate_mat_mul([[1, 2], [3, 4], [5, 6]], [[1, 2, 3], [4, 5, 6]]) and \\\n",
        "not validate_mat_mul([[1, 2, 3], [4, 5, 6], [7, 8, 9]], [[1, 2], [3, 4]]), \"Error en validate_mat_mul\""
      ]
    },
    {
      "cell_type": "markdown",
      "metadata": {
        "id": "RY2TgoGye3pV"
      },
      "source": [
        "### Multiplicación de matrices\n",
        "\n",
        "Si $A \\in \\mathbb{R}^{m \\times n}$ y $B \\in \\mathbb{R}^{n \\times p}$ entonces:\n",
        "$$\n",
        "C = A B \\in \\mathbb{R}^{m \\times p}\\Leftrightarrow c_{ij} = \\sum_{k=1}^{n}a_{ik} b_{kj}\n",
        "$$"
      ]
    },
    {
      "cell_type": "code",
      "execution_count": null,
      "metadata": {
        "id": "DxFQFm51e-A1"
      },
      "outputs": [],
      "source": [
        "def mat_mul(A, B):\n",
        "    m, n = len(A), len(A[0])\n",
        "    n_, p = len(B), len(B[0])\n",
        "\n",
        "    if n != n_:\n",
        "        raise ValueError(\"Las dimensiones de las matrices no son validas para multiplicacion\")\n",
        "\n",
        "    C = [[0 for _ in range(p)] for _ in range(m)]\n",
        "    for i in range(m):\n",
        "        for j in range(p):\n",
        "            for k in range(n):\n",
        "                C[i][j] += A[i][k] * B[k][j]\n",
        "    return C"
      ]
    },
    {
      "cell_type": "code",
      "execution_count": null,
      "metadata": {
        "id": "C_Z-q0k7zhBH"
      },
      "outputs": [],
      "source": [
        "assert mat_mul([[1, 2], [3, 4], [5, 6]], [[2, 2], [2, 2]]) == [[6, 6], [14, 14], [22, 22]], \"Error en mat_mul\""
      ]
    }
  ],
  "metadata": {
    "colab": {
      "provenance": [],
      "include_colab_link": true
    },
    "kernelspec": {
      "display_name": "Python 3 (ipykernel)",
      "language": "python",
      "name": "python3"
    },
    "language_info": {
      "codemirror_mode": {
        "name": "ipython",
        "version": 3
      },
      "file_extension": ".py",
      "mimetype": "text/x-python",
      "name": "python",
      "nbconvert_exporter": "python",
      "pygments_lexer": "ipython3",
      "version": "3.9.13"
    }
  },
  "nbformat": 4,
  "nbformat_minor": 0
}